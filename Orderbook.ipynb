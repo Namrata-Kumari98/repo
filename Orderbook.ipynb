{
 "cells": [
  {
   "cell_type": "code",
   "execution_count": null,
   "metadata": {},
   "outputs": [],
   "source": [
    "from tkinter import *\n",
    "import tkinter as tk\n",
    "import numpy as np\n",
    "import pandas as pd\n",
    "import xlrd \n",
    "from tkinter.ttk import * \n",
    "from time import strftime\n",
    "import time as tm\n",
    "from tkinter import ttk, Canvas, Frame, BOTH\n",
    "window=tk.Tk()\n",
    "canvas = tk.Canvas(window)\n",
    "canvas.pack()\n",
    "lb2=Label(window, text=\"Price\")\n",
    "lb2.place(x=200, y=40)\n",
    "lb3=Label(window, text=\"Ask Size\")\n",
    "lb3.place(x=300, y=40)\n",
    "canvas.create_line(0,60,500,60, dash=(4, 2))\n",
    "canvas.create_line(0,160,500,160, dash=(4, 2))\n",
    "canvas.create_line(0,260,500,260, dash=(4, 2))\n",
    "lb4=Label(window, text=\"Bid Size\")\n",
    "lb4.place(x=100, y=270)\n",
    "lb5=Label(window, text=\"Price\")\n",
    "lb5.place(x=200, y=270)\n",
    "\n",
    "var = IntVar()\n",
    "var.set(2)\n",
    "\n",
    "r1 = Radiobutton(window,text='Ask',value=1, variable=var)\n",
    "r2 = Radiobutton(window,text='Sell',value=2,variable=var)\n",
    "\n",
    "r1.place(x=200,y=300)\n",
    "r2.place(x=200,y=320)\n",
    "window.title('Limit Orderbook')\n",
    "window.geometry('500x600+30+20')\n",
    "window.mainloop()"
   ]
  },
  {
   "cell_type": "code",
   "execution_count": null,
   "metadata": {},
   "outputs": [],
   "source": [
    "import numpy as np\n",
    "import pandas as pd\n",
    "import openpyxl\n",
    "import xlrd\n",
    "df=pd.read_excel(r\"C:\\Users\\namrata\\Downloads\\Order.xls\")\n",
    "path =r\"C:\\Users\\namrata\\Downloads\\Order.xlsx\" \n",
    "wb_obj = openpyxl.load_workbook(path) \n",
    "sheet_obj = wb_obj.active \n",
    "\n",
    "print(df.head())\n",
    "Shares=float(input(\"enter any number\"))\n",
    "\n",
    "value1 = sheet_obj.cell(row = 11,column = 2).value\n",
    "if (Shares<value1):\n",
    "    print(\"value1=\",value1-Shares)\n",
    "    df.replace(to_replace = 'Ask', value = 'Buy')\n",
    "    print(df.head())\n",
    "    \n",
    "else:    \n",
    "    print(df.head())"
   ]
  },
  {
   "cell_type": "code",
   "execution_count": null,
   "metadata": {},
   "outputs": [],
   "source": []
  }
 ],
 "metadata": {
  "kernelspec": {
   "display_name": "Python 3",
   "language": "python",
   "name": "python3"
  },
  "language_info": {
   "codemirror_mode": {
    "name": "ipython",
    "version": 3
   },
   "file_extension": ".py",
   "mimetype": "text/x-python",
   "name": "python",
   "nbconvert_exporter": "python",
   "pygments_lexer": "ipython3",
   "version": "3.8.6"
  }
 },
 "nbformat": 4,
 "nbformat_minor": 4
}
